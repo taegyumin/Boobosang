{
 "cells": [
  {
   "cell_type": "markdown",
   "metadata": {},
   "source": [
    "## Formulation & Modeling"
   ]
  },
  {
   "cell_type": "markdown",
   "metadata": {},
   "source": [
    "### Given data\n",
    "- Set of cities $C$ = {0:Pyongyang, 1:Kaesong, 2:Seoul, 3:Anseong, 4:Daejeon, 5:Geumsan, 6:Seongju, 7:Daegu, 8:Busan} <br> <br>\n",
    "\n",
    "- perchasing price(dollars) of specialties matrix $P$ = $\\begin{pmatrix}30&65&30&25&40&30&50&70&0\\end{pmatrix}$ <br> <br>\n",
    "\n",
    "- weight(kg) of specialties matrix $W$ = $\\begin{pmatrix}5&6&6&5&8&6&7&5&0\\end{pmatrix}$ <br> <br>\n",
    "\n",
    "- maximum buyable amount(unit) matrix $M$ = $\\begin{pmatrix}15&7&15&19&12&16&10&6&0\\end{pmatrix}$ <br> <br>\n",
    "\n",
    "\n",
    "\n",
    "- sales price(dollars)of specialties matrix S = $\\begin{bmatrix}\n",
    "- & 100 & 130 & 200 & 220 & 270 & 310 & 335 & 335\\\\\n",
    "- &  -  & 100 & 170 & 190 & 250 & 300 & 350 & 370\\\\\n",
    "- &  -  &  -  & 150 & 200 & 300 & 320 & 330 & 320\\\\\n",
    "- &  -  &  -  &  -  & 120 & 200 & 300 & 350 & 360\\\\\n",
    "- &  -  &  -  &  -  &  -  & 110 & 150 & 200 & 270\\\\\n",
    "- &  -  &  -  &  -  &  -  &  -  & 180 & 200 & 260\\\\\n",
    "- &  -  &  -  &  -  &  -  &  -  &  -  & 150 & 250\\\\\n",
    "- &  -  &  -  &  -  &  -  &  -  &  -  &  -  & 110\\\\\n",
    "- &  -  &  -  &  -  &  -  &  -  &  -  &  -  &  - \\\\\n",
    "\\end{bmatrix}$\n",
    "\n",
    "There are $2^7$ possible simple paths."
   ]
  },
  {
   "cell_type": "markdown",
   "metadata": {},
   "source": [
    "### decision variables\n",
    "- $V_{c}$ = $\\begin{cases} 1 \\quad \\text{if he visit the city c} \\\\ 0 \\quad \\text{o.w.} \\end{cases} \\quad c \\in C$<br>\n",
    "- $9 \\times 9$ matrix $X$ of which component $x_{ij}$ is the amount he buy in city $i$ and sell in city $j$ <br>"
   ]
  },
  {
   "cell_type": "markdown",
   "metadata": {},
   "source": [
    "### derived variables\n",
    "$X_{.j}$=$\\sum_{i=0}^{8}X_{ij}$ = sales in the city $j \\quad j \\in C$ <br>\n",
    "$X_{i.}$=$\\sum_{j=0}^{8}X_{ij}$ = perchasing cost in the city $i \\quad i \\in C$"
   ]
  },
  {
   "cell_type": "markdown",
   "metadata": {},
   "source": [
    "### Objective Function\n",
    "$f(x)$ <br>\n",
    "= $\\text{income} - \\text{outcome}$ <br>\n",
    "= $\\text{total sales}-\\text{total movement cost}-\\text{total perchasing cost}$ <br>\n",
    "\n",
    "- total sales\n",
    "= $\\sum_{(i,j)} S_{ij}X_{ij}$ where $i,j \\in C$\n",
    "\n",
    "\n",
    "- total movement cost <br>\n",
    "= basic movement cost + additional movement cost <br>\n",
    "= \n",
    "\n",
    "\n",
    "- total perchasing cost\n",
    "= $P \\times$\n",
    "$\\begin{pmatrix}X_{1.}\\\\X_{2.}\\\\\\vdots\\\\X_{8.}\\end{pmatrix}$"
   ]
  },
  {
   "cell_type": "markdown",
   "metadata": {},
   "source": [
    "### Constraints\n",
    "\n"
   ]
  },
  {
   "cell_type": "code",
   "execution_count": null,
   "metadata": {},
   "outputs": [],
   "source": []
  }
 ],
 "metadata": {
  "kernelspec": {
   "display_name": "Python 3",
   "language": "python",
   "name": "python3"
  },
  "language_info": {
   "codemirror_mode": {
    "name": "ipython",
    "version": 3
   },
   "file_extension": ".py",
   "mimetype": "text/x-python",
   "name": "python",
   "nbconvert_exporter": "python",
   "pygments_lexer": "ipython3",
   "version": "3.7.4"
  }
 },
 "nbformat": 4,
 "nbformat_minor": 2
}
