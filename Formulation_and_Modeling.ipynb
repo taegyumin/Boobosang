{
 "cells": [
  {
   "cell_type": "markdown",
   "metadata": {},
   "source": [
    "## Formulation & Modeling"
   ]
  },
  {
   "cell_type": "markdown",
   "metadata": {},
   "source": [
    "### Given data\n",
    "- Set of cities $C$ = {0:Pyongyang, 1:Kaesong, 2:Seoul, 3:Anseong, 4:Daejeon, 5:Geumsan, 6:Seongju, 7:Daegu, 8:Busan} <br> <br>\n",
    "\n",
    "- perchasing price(dollars per unit) of specialties matrix $P = \\begin{pmatrix}30&65&30&25&40&30&50&70&0\\end{pmatrix}^{T}$ <br> <br>\n",
    "\n",
    "- weight(kg per unit) of specialties matrix $W = \\begin{pmatrix}5&6&6&5&8&6&7&5&0\\end{pmatrix}^{T}$ <br> <br>\n",
    "\n",
    "- maximum buyable amount(unit) matrix $M = \\begin{pmatrix}15&7&15&19&12&16&10&6&0\\end{pmatrix}^{T}$ <br> <br>\n",
    "\n",
    "- sales price(dollars per unit)of specialties matrix S = $\\begin{bmatrix}\n",
    "0 & 100 & 130 & 200 & 220 & 270 & 310 & 335 & 335\\\\\n",
    "0 &  0  & 100 & 170 & 190 & 250 & 300 & 350 & 370\\\\\n",
    "0 &  0  &  0  & 150 & 200 & 300 & 320 & 330 & 320\\\\\n",
    "0 &  0  &  0  &  0  & 120 & 200 & 300 & 350 & 360\\\\\n",
    "0 &  0  &  0  &  0  &  0  & 110 & 150 & 200 & 270\\\\\n",
    "0 &  0  &  0  &  0  &  0  &  0  & 180 & 200 & 260\\\\\n",
    "0 &  0  &  0  &  0  &  0  &  0  &  0  & 150 & 250\\\\\n",
    "0 &  0  &  0  &  0  &  0  &  0  &  0  &  0  & 110\\\\\n",
    "0 &  0  &  0  &  0  &  0  &  0  &  0  &  0  &  0 \\\\\n",
    "\\end{bmatrix}$ <br> <br>\n",
    "\n",
    "- distance(km) matrix D = $\\begin{bmatrix}\n",
    "0& 59.1 & 111.6 & 224.6 & 245.3 & 293.6 & 368.5 & 384 & 383\\\\\n",
    " & 0 & 59.16 & 188.66 & 210.57 & 262.46 & 346.79 & 375.36 & 380.16\\\\\n",
    " & &0&145.25&186.94&238.78&323.16&331.05&322.39\\\\\n",
    " & & &0&64.72&109.75&180.53&191.89&234.36\\\\\n",
    " & & & &0&53.97&139.63&192.39&235.99\\\\\n",
    " & & & & &0&96.25&175.4&215.75\\\\\n",
    " & & & & & &0&116.78&174.62\\\\\n",
    " & & & & & & &0&88.37\\\\\n",
    " & & & & & & & &0\\\\\n",
    "\\end{bmatrix}$"
   ]
  },
  {
   "cell_type": "markdown",
   "metadata": {},
   "source": [
    "### decision variables\n",
    "- $\\displaystyle V_{c} = \\begin{cases} 1 \\quad \\text{if he visit the city c} \\\\ 0 \\quad \\text{o.w.} \\end{cases} \\quad c \\in C$<br>\n",
    "- $9 \\times 9$ matrix $X$ of which component $x_{ij}$ is the amount he buy in city $i$ and sell in city $j$ where $i\\lt j$ <br>"
   ]
  },
  {
   "cell_type": "markdown",
   "metadata": {},
   "source": [
    "### derived variables\n",
    "$\\displaystyle V_{ij} = \\begin{cases} 1 \\quad \\text{if he move from the city i to the j} \\\\ 0 \\quad \\text{o.w.} \\end{cases} \\quad i,j \\in C$ <br>\n",
    "$\\displaystyle V_{ij} = \\begin{cases} 1 \\quad V_{i} \\times V_{j} = 1 and V_{i} \\times (V_{i+1}+\\cdots+V_{j}) = 1 \\\\ 0 \\quad \\text{o.w.} \\end{cases} \\quad i\\lt j, i,j \\in C$ <br>\n",
    "\n",
    "$\\displaystyle X_{i.} = \\sum_{j=0}^{8}X_{ij} = \\text{perchasing amount in the city }i \\quad i \\in C$ <br>\n",
    "$\\displaystyle K_c    = \\sum_{i=0}^{c} W_{i}(\\sum_{j=c+1}^{8} x_{ij}) = \\text{weight of knapsack in the city }c$ <br>"
   ]
  },
  {
   "cell_type": "markdown",
   "metadata": {},
   "source": [
    "### Objective Function\n",
    "$f(x; C)$ <br>\n",
    "= $\\text{inflow  - outflow}$ <br>\n",
    "= $\\text{total sales - total movement cost - total perchasing cost}$ <br>\n",
    "\n",
    "where \n",
    "- $ \\displaystyle \\text{total sales} = \\sum_{(i,j)} S_{ij}X_{ij} \\quad i,j \\in C$\n",
    "\n",
    "- $ \\displaystyle \\text{total movement cost}=\\text{basic movement cost + additional movement cost}$ <br>\n",
    "= $ \\displaystyle 0.1 \\times \\sum_{(i,j)} V_{ij} D_{ij} + 0.1 \\times \\sum_{(i,j)} V_{ij}K_{i}D_{ij}$ <br>\n",
    "= $ \\displaystyle 0.1 \\times \\sum_{(i,j)} V_{ij}(1+K_{i})D_{ij} \\quad i,j \\in C $ <br>\n",
    "\n",
    "- $ \\displaystyle \\text{total perchasing cost} = P^{T} \\times \\begin{pmatrix}X_{1.}\\\\X_{2.}\\\\\\vdots\\\\X_{8.}\\end{pmatrix}$"
   ]
  },
  {
   "cell_type": "markdown",
   "metadata": {},
   "source": [
    "### Constraints\n",
    "\n",
    "There are $2^7$ possible simple paths.\n",
    "\n",
    "- maximum buyable amount condition: \n",
    "$ X_{i.} \\le M_{i} \\quad \\text{for all } i \\in C \\quad$ i.e.\n",
    "$X \\times \\begin{pmatrix}1\\\\1\\\\\\vdots\\\\1\\end{pmatrix} \\le M$\n",
    "\n",
    "- weight of knapsack condition:\n",
    "$ K_{c} \\le 100 \\quad \\text{for all } c \\in C \\quad $ <br> <br>\n",
    "\n",
    "- non-negative condition:\n",
    "$ 400 + f(x; [0:n]) \\ge 0 \\quad \\text{for all } n \\in C \\text{ such that } V_{n}=1$\n"
   ]
  }
 ],
 "metadata": {
  "kernelspec": {
   "display_name": "Python 3",
   "language": "python",
   "name": "python3"
  },
  "language_info": {
   "codemirror_mode": {
    "name": "ipython",
    "version": 3
   },
   "file_extension": ".py",
   "mimetype": "text/x-python",
   "name": "python",
   "nbconvert_exporter": "python",
   "pygments_lexer": "ipython3",
   "version": "3.7.4"
  }
 },
 "nbformat": 4,
 "nbformat_minor": 2
}
